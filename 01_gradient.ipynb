{
 "cells": [
  {
   "cell_type": "markdown",
   "metadata": {
    "collapsed": true,
    "pycharm": {
     "name": "#%% md\n"
    }
   },
   "source": [
    "# Лабораторная №1\n",
    "\n",
    "1. Реалезуйте градиентный спуск с постоянным шагом (learning rate). Иследовать сходимость при различных значениях шага.\n",
    "2. Подберите, функциию изменения шага (learning rate scheduling), чтобы улучшить сходимость. Например экспоненциальную или ступенчатую.\n",
    "3. Реализовать какой-нибудь метод одномерного поиска (дихотомия, метод Фибоначчи, метод золотого сечения) и градиентный спуек на его основе. Сравнить эфективноть с точки зрения количества вычислений минимичируемой функции и ее градиентов.\n",
    "4. \\* Сделать одновременый поиск с учетом усдовий Вольфа и исстедовать эффективность.\n",
    "5. Проанализируйте раекторию градиентного спуска для нескольких квадратичных функций: придумайте 2-3 квадратичные функции, на которых работа метода будет отличаться, нарискйте графики с линиями уровня функций и траекториями методов. <br/>Попробуйте ответить на следуюший вопрос: Как отличаются поведения метода в зависимости от числа обусловленности функции, выбора начальной точки и стратегии выбора шага?\n",
    "6. Иследуйте, как зависит число итераций, необходимых градиетному спуску для сходимости, от следующх дву параметров:\n",
    "\n",
    "    * числа обусловленности k ≤ 1 оптимизированной функции,\n",
    "    * размероности пространства n оптимизированных переменных.\n",
    "\n",
    "   Для этого для заданых парметров n и k сгенерируйте случайным образом квадратичную задачу размера n с числом обусловаленности k и запустите на ней градиентный спуск с некоторой фиксированной требуемой точностью. Замерьте число итераций T(n,k), которое потребовалось сделать методу до сходимости (успешному выходу по критерию становки)."
   ]
  },
  {
   "cell_type": "markdown",
   "source": [
    "## Configuration"
   ],
   "metadata": {
    "collapsed": false,
    "pycharm": {
     "name": "#%% md\n"
    }
   }
  },
  {
   "cell_type": "code",
   "execution_count": 2,
   "outputs": [],
   "source": [
    "import numpy as np\n",
    "import matplotlib.pyplot as plt\n",
    "import yaml"
   ],
   "metadata": {
    "collapsed": false,
    "pycharm": {
     "name": "#%%\n"
    }
   }
  },
  {
   "cell_type": "code",
   "execution_count": 3,
   "outputs": [],
   "source": [
    "config = yaml.load(\n",
    "    stream=open('config.yaml'),\n",
    "    Loader=yaml.FullLoader,\n",
    ")"
   ],
   "metadata": {
    "collapsed": false,
    "pycharm": {
     "name": "#%%\n"
    }
   }
  },
  {
   "cell_type": "code",
   "execution_count": 4,
   "outputs": [],
   "source": [
    "seed = int(config['seed'])\n",
    "np.random.seed(seed)"
   ],
   "metadata": {
    "collapsed": false,
    "pycharm": {
     "name": "#%%\n"
    }
   }
  },
  {
   "cell_type": "markdown",
   "source": [
    "## 1. Learning rate"
   ],
   "metadata": {
    "collapsed": false,
    "pycharm": {
     "name": "#%% md\n"
    }
   }
  },
  {
   "cell_type": "code",
   "execution_count": 5,
   "outputs": [
    {
     "name": "stdout",
     "output_type": "stream",
     "text": [
      "| lr | dl | opt | f | grad |\n",
      "| --- | ---- | --- | --- | --- |\n",
      "| 0.1 | 1e-05 | 1499.9964076196193 | 59 | 58 |\n",
      "| 0.01 | 1e-05 | 1499.984734332429 | 570 | 569 |\n",
      "| 0.001 | 1e-05 | 1499.9501680827905 | 5152 | 5151 |\n",
      "| 0.0001 | 1e-05 | 1499.8419272332521 | 45786 | 45785 |\n",
      "| 0.1 | 1e-08 | 1499.9998738858267 | 74 | 73 |\n",
      "| 0.01 | 1e-08 | 1499.9995184962245 | 741 | 740 |\n",
      "| 0.001 | 1e-08 | 1499.9984272686504 | 6878 | 6877 |\n",
      "| 0.0001 | 1e-08 | 1499.9949992311722 | 63051 | 63050 |\n",
      "\n"
     ]
    }
   ],
   "source": [
    "from modules.gradient import make_gradient\n",
    "\n",
    "make_gradient()"
   ],
   "metadata": {
    "collapsed": false,
    "pycharm": {
     "name": "#%%\n"
    }
   }
  },
  {
   "cell_type": "markdown",
   "source": [
    "| lr     | dl    | opt                | f     | grad  |\n",
    "|--------|-------|--------------------|-------|-------|\n",
    "| 0.1    | 1e-05 | 1499.9964076196193 | 59    | 58    |\n",
    "| 0.01   | 1e-05 | 1499.984734332429  | 570   | 569   |\n",
    "| 0.001  | 1e-05 | 1499.9501680827905 | 5152  | 5151  |\n",
    "| 0.0001 | 1e-05 | 1499.8419272332521 | 45786 | 45785 |\n",
    "| 0.1    | 1e-08 | 1499.9998738858267 | 74    | 73    |\n",
    "| 0.01   | 1e-08 | 1499.9995184962245 | 741   | 740   |\n",
    "| 0.001  | 1e-08 | 1499.9984272686504 | 6878  | 6877  |\n",
    "| 0.0001 | 1e-08 | 1499.9949992311722 | 63051 | 63050 |"
   ],
   "metadata": {
    "collapsed": false,
    "pycharm": {
     "name": "#%% md\n"
    }
   }
  },
  {
   "cell_type": "code",
   "execution_count": null,
   "outputs": [],
   "source": [],
   "metadata": {
    "collapsed": false,
    "pycharm": {
     "name": "#%%\n"
    }
   }
  },
  {
   "cell_type": "markdown",
   "source": [
    "## 3. Golden ratio method"
   ],
   "metadata": {
    "collapsed": false
   }
  },
  {
   "cell_type": "code",
   "execution_count": 5,
   "outputs": [
    {
     "name": "stdout",
     "output_type": "stream",
     "text": [
      "| lr | dl | opt | f | grad |\n",
      "| --- | ---- | --- | --- | --- |\n",
      "| 0.1 | 1e-05 | 1499.9964076196193 | 59 | 58 |\n",
      "| 0.01 | 1e-05 | 1499.984734332429 | 570 | 569 |\n",
      "| 0.001 | 1e-05 | 1499.9501680827905 | 5152 | 5151 |\n",
      "| 0.0001 | 1e-05 | 1499.8419272332521 | 45786 | 45785 |\n",
      "| 0.1 | 1e-08 | 1499.9998738858267 | 74 | 73 |\n",
      "| 0.01 | 1e-08 | 1499.9995184962245 | 741 | 740 |\n",
      "| 0.001 | 1e-08 | 1499.9984272686504 | 6878 | 6877 |\n",
      "| 0.0001 | 1e-08 | 1499.9949992311722 | 63051 | 63050 |\n",
      "\n"
     ]
    }
   ],
   "source": [
    "from modules.gradient import make_golden_ratio\n",
    "\n",
    "make_golden_ratio()"
   ],
   "metadata": {
    "collapsed": false,
    "pycharm": {
     "name": "#%%\n"
    }
   }
  }
 ],
 "metadata": {
  "kernelspec": {
   "display_name": "Python 3",
   "language": "python",
   "name": "python3"
  },
  "language_info": {
   "codemirror_mode": {
    "name": "ipython",
    "version": 2
   },
   "file_extension": ".py",
   "mimetype": "text/x-python",
   "name": "python",
   "nbconvert_exporter": "python",
   "pygments_lexer": "ipython2",
   "version": "2.7.6"
  }
 },
 "nbformat": 4,
 "nbformat_minor": 0
}
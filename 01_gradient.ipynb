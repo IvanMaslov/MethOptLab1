{
 "cells": [
  {
   "cell_type": "markdown",
   "metadata": {
    "collapsed": true,
    "pycharm": {
     "name": "#%% md\n"
    }
   },
   "source": [
    "# Лабораторная №1\n",
    "\n",
    "1. Реалезуйте градиентный спуск с постоянным шагом (learning rate). Иследовать сходимость при различных значениях шага.\n",
    "2. Подберите, функциию изменения шага (learning rate scheduling), чтобы улучшить сходимость. Например экспоненциальную или ступенчатую.\n",
    "3. Реализовать какой-нибудь метод одномерного поиска (дихотомия, метод Фибоначчи, метод золотого сечения) и градиентный спуек на его основе. Сравнить эфективноть с точки зрения количества вычислений минимичируемой функции и ее градиентов.\n",
    "4. \\* Сделать одновременый поиск с учетом усдовий Вольфа и исстедовать эффективность.\n",
    "5. Проанализируйте раекторию градиентного спуска для нескольких квадратичных функций: придумайте 2-3 квадратичные функции, на которых работа метода будет отличаться, нарискйте графики с линиями уровня функций и траекториями методов. <br/>Попробуйте ответить на следуюший вопрос: Как отличаются поведения метода в зависимости от числа обусловленности функции, выбора начальной точки и стратегии выбора шага?\n",
    "6. Иследуйте, как зависит число итераций, необходимых градиетному спуску для сходимости, от следующх дву параметров:\n",
    "\n",
    "    * числа обусловленности k ≤ 1 оптимизированной функции,\n",
    "    * размероности пространства n оптимизированных переменных.\n",
    "\n",
    "   Для этого для заданых парметров n и k сгенерируйте случайным образом квадратичную задачу размера n с числом обусловаленности k и запустите на ней градиентный спуск с некоторой фиксированной требуемой точностью. Замерьте число итераций T(n,k), которое потребовалось сделать методу до сходимости (успешному выходу по критерию становки)."
   ]
  },
  {
   "cell_type": "markdown",
   "source": [
    "## Configuration"
   ],
   "metadata": {
    "collapsed": false,
    "pycharm": {
     "name": "#%% md\n"
    }
   }
  },
  {
   "cell_type": "code",
   "execution_count": 9,
   "outputs": [],
   "source": [
    "import numpy as np\n",
    "import matplotlib.pyplot as plt\n",
    "import sympy as sy\n",
    "import yaml"
   ],
   "metadata": {
    "collapsed": false,
    "pycharm": {
     "name": "#%%\n"
    }
   }
  },
  {
   "cell_type": "code",
   "execution_count": 10,
   "outputs": [],
   "source": [
    "config = yaml.load(\n",
    "    stream=open('config.yaml'),\n",
    "    Loader=yaml.FullLoader,\n",
    ")"
   ],
   "metadata": {
    "collapsed": false,
    "pycharm": {
     "name": "#%%\n"
    }
   }
  },
  {
   "cell_type": "code",
   "execution_count": 11,
   "outputs": [],
   "source": [
    "seed = int(config['seed'])\n",
    "np.random.seed(seed)"
   ],
   "metadata": {
    "collapsed": false,
    "pycharm": {
     "name": "#%%\n"
    }
   }
  },
  {
   "cell_type": "code",
   "execution_count": 12,
   "outputs": [],
   "source": [
    "_x = sy.Symbol('x')\n",
    "_y = sy.Symbol('y')\n",
    "_z = sy.Symbol('z')"
   ],
   "metadata": {
    "collapsed": false,
    "pycharm": {
     "name": "#%%\n"
    }
   }
  },
  {
   "cell_type": "markdown",
   "source": [
    "## 0. Target function"
   ],
   "metadata": {
    "collapsed": false,
    "pycharm": {
     "name": "#%% md\n"
    }
   }
  },
  {
   "cell_type": "code",
   "source": [
    "def plot_func_1d(func, xs, *args, **kwargs):\n",
    "    plt.plot(\n",
    "        xs,\n",
    "        func(xs),\n",
    "        *args,\n",
    "        **kwargs\n",
    "    )\n",
    "\n",
    "def plot_func_2d(func, xs, ys, *args, **kwargs):\n",
    "    mxs, mys = np.meshgrid(xs, ys)\n",
    "    plt.contourf(\n",
    "        mxs,\n",
    "        mys,\n",
    "        func(xs, ys),\n",
    "        *args,\n",
    "        **kwargs\n",
    "    )"
   ],
   "metadata": {
    "collapsed": false,
    "pycharm": {
     "name": "#%%\n"
    }
   },
   "execution_count": 13,
   "outputs": []
  },
  {
   "cell_type": "code",
   "execution_count": 14,
   "outputs": [
    {
     "data": {
      "text/plain": "x**2",
      "text/latex": "$\\displaystyle x^{2}$"
     },
     "execution_count": 14,
     "metadata": {},
     "output_type": "execute_result"
    }
   ],
   "source": [
    "_tg_func_1d = _x ** 2\n",
    "_tg_func_1d"
   ],
   "metadata": {
    "collapsed": false,
    "pycharm": {
     "name": "#%%\n"
    }
   }
  },
  {
   "cell_type": "code",
   "execution_count": 15,
   "outputs": [
    {
     "data": {
      "text/plain": "2*x",
      "text/latex": "$\\displaystyle 2 x$"
     },
     "execution_count": 15,
     "metadata": {},
     "output_type": "execute_result"
    }
   ],
   "source": [
    "_tg_func_1d_diff = _tg_func_1d.diff(_x)\n",
    "_tg_func_1d_diff"
   ],
   "metadata": {
    "collapsed": false,
    "pycharm": {
     "name": "#%%\n"
    }
   }
  },
  {
   "cell_type": "code",
   "execution_count": 16,
   "outputs": [
    {
     "data": {
      "text/plain": "<Figure size 432x288 with 1 Axes>",
      "image/png": "[encoded data removed]"
     },
     "metadata": {
      "needs_background": "light"
     },
     "output_type": "display_data"
    },
    {
     "data": {
      "text/plain": "<Figure size 432x288 with 1 Axes>",
      "image/png": "[encoded data removed]"
     },
     "metadata": {
      "needs_background": "light"
     },
     "output_type": "display_data"
    }
   ],
   "source": [
    "tg_func = sy.lambdify(_x, _tg_func_1d)\n",
    "tg_func_diff = sy.lambdify(_x, _tg_func_1d_diff)\n",
    "\n",
    "plt.title(f'f = {_tg_func_1d}')\n",
    "plot_func_1d(tg_func, np.linspace(-5, 5, 1000))\n",
    "plt.show()\n",
    "\n",
    "plt.title(f'df/dx = {_tg_func_1d_diff}')\n",
    "plot_func_1d(tg_func_diff, np.linspace(-5, 5, 1000))\n",
    "plt.show()"
   ],
   "metadata": {
    "collapsed": false,
    "pycharm": {
     "name": "#%%\n"
    }
   }
  }
 ],
 "metadata": {
  "kernelspec": {
   "display_name": "Python 3",
   "language": "python",
   "name": "python3"
  },
  "language_info": {
   "codemirror_mode": {
    "name": "ipython",
    "version": 2
   },
   "file_extension": ".py",
   "mimetype": "text/x-python",
   "name": "python",
   "nbconvert_exporter": "python",
   "pygments_lexer": "ipython2",
   "version": "2.7.6"
  }
 },
 "nbformat": 4,
 "nbformat_minor": 0
}
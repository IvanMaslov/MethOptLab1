{
 "cells": [
  {
   "cell_type": "markdown",
   "metadata": {
    "collapsed": true,
    "pycharm": {
     "name": "#%% md\n"
    }
   },
   "source": [
    "# Лабораторная №1\n",
    "\n",
    "1. Реализовать SGD для решение линейной регрессии с размерами батчей\n",
    "    * SGD\n",
    "    * Minibatch DG\n",
    "    * GD из первой лабораторной\n",
    "2. Scaling\n",
    "3. Модификации\n",
    "    * Nesterov\n",
    "    * Momentum\n",
    "    * AdaGrad\n",
    "    * RMSProm\n",
    "    * Adam\n",
    "4. Исследовать сходимость и ресурсы\n",
    "5. Построить траекторию спуска"
   ]
  },
  {
   "cell_type": "markdown",
   "metadata": {
    "pycharm": {
     "name": "#%% md\n"
    }
   },
   "source": [
    "## Configuration"
   ]
  },
  {
   "cell_type": "code",
   "execution_count": 1,
   "metadata": {
    "pycharm": {
     "name": "#%%\n"
    }
   },
   "outputs": [],
   "source": [
    "import numpy as np\n",
    "import matplotlib.pyplot as plt\n",
    "import sympy as sy\n",
    "import yaml\n",
    "\n",
    "from matplotlib import cm\n",
    "\n",
    "from modules import"
   ]
  },
  {
   "cell_type": "code",
   "execution_count": 2,
   "metadata": {
    "pycharm": {
     "name": "#%%\n"
    }
   },
   "outputs": [],
   "source": [
    "config = yaml.load(\n",
    "    stream=open('config.yaml'),\n",
    "    Loader=yaml.FullLoader,\n",
    ")"
   ]
  },
  {
   "cell_type": "code",
   "execution_count": 3,
   "metadata": {
    "pycharm": {
     "name": "#%%\n"
    }
   },
   "outputs": [],
   "source": [
    "seed = int(config['seed'])\n",
    "np.random.seed(seed)"
   ]
  },
  {
   "cell_type": "code",
   "execution_count": 4,
   "metadata": {
    "pycharm": {
     "name": "#%%\n"
    }
   },
   "outputs": [],
   "source": [
    "_x = sy.Symbol('x')\n",
    "_y = sy.Symbol('y')\n",
    "_z = sy.Symbol('z')"
   ]
  },
  {
   "cell_type": "markdown",
   "metadata": {},
   "source": [
    "## Target functions"
   ]
  },
  {
   "cell_type": "markdown",
   "metadata": {},
   "source": [
    "### Utils"
   ]
  },
  {
   "cell_type": "code",
   "execution_count": 5,
   "metadata": {
    "pycharm": {
     "name": "#%%\n"
    }
   },
   "outputs": [],
   "source": [
    "def build_plot_2d(\n",
    "        func,\n",
    "        *args,\n",
    "        xs=np.linspace(-4, 4, 1000)\n",
    "):\n",
    "    ys = func(xs)\n",
    "    plt.plot(\n",
    "        xs,\n",
    "        ys,\n",
    "        *args\n",
    "    )"
   ]
  },
  {
   "cell_type": "code",
   "execution_count": 6,
   "metadata": {
    "pycharm": {
     "name": "#%%\n"
    }
   },
   "outputs": [],
   "source": [
    "def build_plot_3d(\n",
    "        func,\n",
    "        xs=np.linspace(-4, 4, 1000),\n",
    "        ys=np.linspace(-4, 4, 1000)\n",
    "):\n",
    "    xs, ys = np.meshgrid(xs, ys)\n",
    "    zs = func(xs, ys)\n",
    "\n",
    "    fig = plt.figure(figsize=(10, 10), dpi=80)\n",
    "    ax = fig.add_subplot(111, projection='3d')\n",
    "    ax.plot_surface(xs, ys, zs, cmap=cm.coolwarm, linewidth=0, antialiased=False)"
   ]
  },
  {
   "cell_type": "markdown",
   "source": [
    "# Task 1"
   ],
   "metadata": {
    "collapsed": false,
    "pycharm": {
     "name": "#%% md\n"
    }
   }
  },
  {
   "cell_type": "code",
   "execution_count": null,
   "outputs": [],
   "source": [],
   "metadata": {
    "collapsed": false,
    "pycharm": {
     "name": "#%%\n"
    }
   }
  }
 ],
 "metadata": {
  "kernelspec": {
   "display_name": "Python 3 (ipykernel)",
   "language": "python",
   "name": "python3"
  },
  "language_info": {
   "codemirror_mode": {
    "name": "ipython",
    "version": 3
   },
   "file_extension": ".py",
   "mimetype": "text/x-python",
   "name": "python",
   "nbconvert_exporter": "python",
   "pygments_lexer": "ipython3",
   "version": "3.7.2"
  }
 },
 "nbformat": 4,
 "nbformat_minor": 1
}